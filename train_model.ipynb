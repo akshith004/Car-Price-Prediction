{
 "cells": [
  {
   "cell_type": "code",
   "execution_count": 10,
   "id": "7c0706d5-e074-4cee-9111-c59f2f1aeb1f",
   "metadata": {},
   "outputs": [
    {
     "name": "stdout",
     "output_type": "stream",
     "text": [
      "Model trained and saved!\n"
     ]
    }
   ],
   "source": [
    "import pandas as pd\n",
    "from sklearn.linear_model import LinearRegression\n",
    "from sklearn.model_selection import train_test_split\n",
    "import pickle\n",
    "# Load dataset\n",
    "df = pd.read_csv(\"cars.csv\")\n",
    "\n",
    "# One-hot encode car model\n",
    "df = pd.get_dummies(df, columns=[\"Car Model\"], drop_first=True)\n",
    "\n",
    "# Features and target\n",
    "X = df.drop(\"Sell Price($)\", axis=1)\n",
    "y = df[\"Sell Price($)\"]\n",
    "\n",
    "# Train-test split\n",
    "X_train, X_test, y_train, y_test = train_test_split(X, y, test_size=0.2, random_state=42)\n",
    "\n",
    "# Train model\n",
    "model = LinearRegression()\n",
    "model.fit(X_train, y_train)\n",
    "\n",
    "# Save model and column names\n",
    "with open(\"car_price_model.pkl\", \"wb\") as f:\n",
    "    pickle.dump(model, f)\n",
    "\n",
    "with open(\"columns.pkl\", \"wb\") as f:\n",
    "    pickle.dump(X.columns.tolist(), f)\n",
    "\n",
    "print(\"Model trained and saved!\")"
   ]
  }
 ],
 "metadata": {
  "kernelspec": {
   "display_name": "Python 3 (ipykernel)",
   "language": "python",
   "name": "python3"
  },
  "language_info": {
   "codemirror_mode": {
    "name": "ipython",
    "version": 3
   },
   "file_extension": ".py",
   "mimetype": "text/x-python",
   "name": "python",
   "nbconvert_exporter": "python",
   "pygments_lexer": "ipython3",
   "version": "3.12.4"
  }
 },
 "nbformat": 4,
 "nbformat_minor": 5
}
