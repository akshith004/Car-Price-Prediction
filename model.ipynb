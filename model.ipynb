import pandas as pd
from sklearn.linear_model import LinearRegression
from sklearn.model_selection import train_test_split
import pickle

# Load dataset
df = pd.read_csv("cars.csv")

# One-hot encode car model
df = pd.get_dummies(df, columns=["Car Model"], drop_first=True)

# Features and target
X = df.drop("Sell Price($)", axis=1)
y = df["Sell Price($)"]

# Train-test split
X_train, X_test, y_train, y_test = train_test_split(X, y, test_size=0.2, random_state=42)

# Train model
model = LinearRegression()
model.fit(X_train, y_train)

# Save model and column names
with open("car_price_model.pkl", "wb") as f:
    pickle.dump(model, f)

with open("columns.pkl", "wb") as f:
    pickle.dump(X.columns.tolist(), f)

print("Model trained and saved!")
